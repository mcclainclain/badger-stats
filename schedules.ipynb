{
 "cells": [
  {
   "cell_type": "code",
   "execution_count": 1,
   "id": "initial_id",
   "metadata": {
    "collapsed": true,
    "ExecuteTime": {
     "end_time": "2023-12-25T20:14:22.694937129Z",
     "start_time": "2023-12-25T20:14:22.451505598Z"
    }
   },
   "outputs": [],
   "source": [
    "import requests\n",
    "from bs4 import BeautifulSoup\n",
    "import pandas as pd"
   ]
  },
  {
   "cell_type": "code",
   "execution_count": 2,
   "outputs": [],
   "source": [
    "BASE_URL = \"https://www.espn.com/mens-college-basketball/team/schedule/_/id/275/season/\"\n",
    "seasons = [i for i in range(2005,2024)]"
   ],
   "metadata": {
    "collapsed": false,
    "ExecuteTime": {
     "end_time": "2023-12-25T20:14:22.698216475Z",
     "start_time": "2023-12-25T20:14:22.695683622Z"
    }
   },
   "id": "fff77886b715cd8a"
  },
  {
   "cell_type": "code",
   "execution_count": 3,
   "outputs": [],
   "source": [
    "def game_links(season):\n",
    "    url = BASE_URL + str(season)\n",
    "    headers = {\n",
    "        \"User-Agent\": \"Mozilla/5.0 (Windows NT 10.0; Win64; x64) AppleWebKit/537.36 (KHTML, like Gecko) Chrome/116.0.0.0 Safari/537.36\"\n",
    "    }\n",
    "    response = requests.get(url, headers=headers)\n",
    "    soup = BeautifulSoup(response.content, \"html.parser\")\n",
    "    table = soup.find(\"table\")\n",
    "    spans = table.find_all(\"span\", {\"class\": \"ml4\"})\n",
    "    links = []\n",
    "    for span in spans:\n",
    "        link = span.find(\"a\").get(\"href\")\n",
    "        links.append(link)\n",
    "    links = [link.replace(\"/game/\", \"/boxscore/\") for link in links]\n",
    "    return links"
   ],
   "metadata": {
    "collapsed": false,
    "ExecuteTime": {
     "end_time": "2023-12-25T20:14:22.708620740Z",
     "start_time": "2023-12-25T20:14:22.700453157Z"
    }
   },
   "id": "7d8ac2edfd2aaf98"
  },
  {
   "cell_type": "code",
   "execution_count": 4,
   "outputs": [],
   "source": [
    "links_df = pd.DataFrame()\n",
    "for season in seasons:\n",
    "    links = game_links(season)\n",
    "    df = pd.DataFrame({\n",
    "        \"Season\": season,\n",
    "        \"Links\": links\n",
    "    })\n",
    "    links_df = pd.concat([links_df, df])\n",
    "links_df.to_csv(\"links.csv\", index=False)"
   ],
   "metadata": {
    "collapsed": false,
    "ExecuteTime": {
     "end_time": "2023-12-25T20:14:36.534692541Z",
     "start_time": "2023-12-25T20:14:22.712354394Z"
    }
   },
   "id": "44f8c106f9c3b1b0"
  }
 ],
 "metadata": {
  "kernelspec": {
   "display_name": "Python 3",
   "language": "python",
   "name": "python3"
  },
  "language_info": {
   "codemirror_mode": {
    "name": "ipython",
    "version": 2
   },
   "file_extension": ".py",
   "mimetype": "text/x-python",
   "name": "python",
   "nbconvert_exporter": "python",
   "pygments_lexer": "ipython2",
   "version": "2.7.6"
  }
 },
 "nbformat": 4,
 "nbformat_minor": 5
}
